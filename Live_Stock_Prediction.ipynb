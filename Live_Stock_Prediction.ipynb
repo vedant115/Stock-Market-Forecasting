{
 "cells": [
  {
   "cell_type": "code",
   "execution_count": null,
   "id": "8bbcc026",
   "metadata": {
    "scrolled": true
   },
   "outputs": [],
   "source": [
    "pip install yfinance"
   ]
  },
  {
   "cell_type": "code",
   "execution_count": 2,
   "id": "f91eb4e9",
   "metadata": {},
   "outputs": [],
   "source": [
    "#yahoo finance as data source\n",
    "import yfinance as yf"
   ]
  },
  {
   "cell_type": "code",
   "execution_count": 3,
   "id": "ee00f18c",
   "metadata": {},
   "outputs": [],
   "source": [
    "#See the yahoo finance ticker for your stock symbol\n",
    "stock_symbol = 'GAIL.NS'"
   ]
  },
  {
   "cell_type": "code",
   "execution_count": 4,
   "id": "d365868a",
   "metadata": {},
   "outputs": [
    {
     "name": "stdout",
     "output_type": "stream",
     "text": [
      "[*********************100%***********************]  1 of 1 completed\n"
     ]
    }
   ],
   "source": [
    "#last 5 years data with interval of 1 day\n",
    "data = yf.download(tickers=stock_symbol,period='5y',interval='1d')"
   ]
  },
  {
   "cell_type": "code",
   "execution_count": 5,
   "id": "9f82e205",
   "metadata": {},
   "outputs": [
    {
     "data": {
      "text/plain": [
       "pandas.core.frame.DataFrame"
      ]
     },
     "execution_count": 5,
     "metadata": {},
     "output_type": "execute_result"
    }
   ],
   "source": [
    "type(data)"
   ]
  },
  {
   "cell_type": "code",
   "execution_count": 6,
   "id": "dbbe3e6b",
   "metadata": {},
   "outputs": [
    {
     "data": {
      "text/html": [
       "<div>\n",
       "<style scoped>\n",
       "    .dataframe tbody tr th:only-of-type {\n",
       "        vertical-align: middle;\n",
       "    }\n",
       "\n",
       "    .dataframe tbody tr th {\n",
       "        vertical-align: top;\n",
       "    }\n",
       "\n",
       "    .dataframe thead th {\n",
       "        text-align: right;\n",
       "    }\n",
       "</style>\n",
       "<table border=\"1\" class=\"dataframe\">\n",
       "  <thead>\n",
       "    <tr style=\"text-align: right;\">\n",
       "      <th></th>\n",
       "      <th>Open</th>\n",
       "      <th>High</th>\n",
       "      <th>Low</th>\n",
       "      <th>Close</th>\n",
       "      <th>Adj Close</th>\n",
       "      <th>Volume</th>\n",
       "    </tr>\n",
       "    <tr>\n",
       "      <th>Date</th>\n",
       "      <th></th>\n",
       "      <th></th>\n",
       "      <th></th>\n",
       "      <th></th>\n",
       "      <th></th>\n",
       "      <th></th>\n",
       "    </tr>\n",
       "  </thead>\n",
       "  <tbody>\n",
       "    <tr>\n",
       "      <th>2017-11-06</th>\n",
       "      <td>115.750031</td>\n",
       "      <td>117.400032</td>\n",
       "      <td>114.750031</td>\n",
       "      <td>116.487526</td>\n",
       "      <td>94.566078</td>\n",
       "      <td>8345101</td>\n",
       "    </tr>\n",
       "    <tr>\n",
       "      <th>2017-11-07</th>\n",
       "      <td>117.000031</td>\n",
       "      <td>119.412529</td>\n",
       "      <td>114.987526</td>\n",
       "      <td>115.875031</td>\n",
       "      <td>94.068855</td>\n",
       "      <td>15277560</td>\n",
       "    </tr>\n",
       "    <tr>\n",
       "      <th>2017-11-08</th>\n",
       "      <td>115.875031</td>\n",
       "      <td>116.950027</td>\n",
       "      <td>113.837524</td>\n",
       "      <td>114.312531</td>\n",
       "      <td>92.800392</td>\n",
       "      <td>10552197</td>\n",
       "    </tr>\n",
       "    <tr>\n",
       "      <th>2017-11-09</th>\n",
       "      <td>115.125031</td>\n",
       "      <td>115.700027</td>\n",
       "      <td>112.000031</td>\n",
       "      <td>112.775024</td>\n",
       "      <td>91.552216</td>\n",
       "      <td>12770876</td>\n",
       "    </tr>\n",
       "    <tr>\n",
       "      <th>2017-11-10</th>\n",
       "      <td>113.687531</td>\n",
       "      <td>115.925026</td>\n",
       "      <td>112.550026</td>\n",
       "      <td>114.275024</td>\n",
       "      <td>92.769951</td>\n",
       "      <td>16137311</td>\n",
       "    </tr>\n",
       "  </tbody>\n",
       "</table>\n",
       "</div>"
      ],
      "text/plain": [
       "                  Open        High         Low       Close  Adj Close  \\\n",
       "Date                                                                    \n",
       "2017-11-06  115.750031  117.400032  114.750031  116.487526  94.566078   \n",
       "2017-11-07  117.000031  119.412529  114.987526  115.875031  94.068855   \n",
       "2017-11-08  115.875031  116.950027  113.837524  114.312531  92.800392   \n",
       "2017-11-09  115.125031  115.700027  112.000031  112.775024  91.552216   \n",
       "2017-11-10  113.687531  115.925026  112.550026  114.275024  92.769951   \n",
       "\n",
       "              Volume  \n",
       "Date                  \n",
       "2017-11-06   8345101  \n",
       "2017-11-07  15277560  \n",
       "2017-11-08  10552197  \n",
       "2017-11-09  12770876  \n",
       "2017-11-10  16137311  "
      ]
     },
     "execution_count": 6,
     "metadata": {},
     "output_type": "execute_result"
    }
   ],
   "source": [
    "data.head()"
   ]
  },
  {
   "cell_type": "code",
   "execution_count": 7,
   "id": "9d445949",
   "metadata": {},
   "outputs": [
    {
     "data": {
      "text/plain": [
       "1236"
      ]
     },
     "execution_count": 7,
     "metadata": {},
     "output_type": "execute_result"
    }
   ],
   "source": [
    "len(data)"
   ]
  },
  {
   "cell_type": "code",
   "execution_count": 9,
   "id": "6292e20a",
   "metadata": {},
   "outputs": [],
   "source": [
    "opn = data[['Open']]"
   ]
  },
  {
   "cell_type": "code",
   "execution_count": 10,
   "id": "21e132d8",
   "metadata": {},
   "outputs": [
    {
     "data": {
      "text/plain": [
       "<matplotlib.axes._subplots.AxesSubplot at 0x1da5b80e910>"
      ]
     },
     "execution_count": 10,
     "metadata": {},
     "output_type": "execute_result"
    },
    {
     "data": {
      "image/png": "[encoded data removed]",
      "text/plain": [
       "<Figure size 432x288 with 1 Axes>"
      ]
     },
     "metadata": {
      "needs_background": "light"
     },
     "output_type": "display_data"
    }
   ],
   "source": [
    "opn.plot()"
   ]
  },
  {
   "cell_type": "code",
   "execution_count": 15,
   "id": "0e73b789",
   "metadata": {},
   "outputs": [],
   "source": [
    "import numpy as np"
   ]
  },
  {
   "cell_type": "code",
   "execution_count": 16,
   "id": "0e6c1c22",
   "metadata": {},
   "outputs": [],
   "source": [
    "from sklearn.preprocessing import MinMaxScaler"
   ]
  },
  {
   "cell_type": "code",
   "execution_count": 17,
   "id": "cf6a3e1b",
   "metadata": {},
   "outputs": [],
   "source": [
    "#Using MinMaxScaler for normalizing data between 0 & 1\n",
    "normalizer = MinMaxScaler(feature_range=(0,1))\n",
    "ds_scaled = normalizer.fit_transform(np.array(ds).reshape(-1,1))"
   ]
  },
  {
   "cell_type": "code",
   "execution_count": 18,
   "id": "7dbea1d5",
   "metadata": {},
   "outputs": [
    {
     "data": {
      "text/plain": [
       "(1236, 1236)"
      ]
     },
     "execution_count": 18,
     "metadata": {},
     "output_type": "execute_result"
    }
   ],
   "source": [
    "len(ds_scaled), len(ds)"
   ]
  },
  {
   "cell_type": "code",
   "execution_count": 19,
   "id": "a20c5654",
   "metadata": {},
   "outputs": [],
   "source": [
    "#Defining test and train data sizes\n",
    "train_size = int(len(ds_scaled)*0.70)\n",
    "test_size = len(ds_scaled) - train_size"
   ]
  },
  {
   "cell_type": "code",
   "execution_count": 21,
   "id": "25ca615e",
   "metadata": {},
   "outputs": [],
   "source": [
    "#Splitting data between train and test\n",
    "ds_train, ds_test = ds_scaled[0:train_size,:], ds_scaled[train_size:len(ds_scaled),:1]"
   ]
  },
  {
   "cell_type": "code",
   "execution_count": 22,
   "id": "95913f28",
   "metadata": {},
   "outputs": [
    {
     "data": {
      "text/plain": [
       "(865, 371)"
      ]
     },
     "execution_count": 22,
     "metadata": {},
     "output_type": "execute_result"
    }
   ],
   "source": [
    "len(ds_train),len(ds_test)"
   ]
  },
  {
   "cell_type": "code",
   "execution_count": 23,
   "id": "5dd0b45e",
   "metadata": {},
   "outputs": [],
   "source": [
    "#creating dataset in time series for LSTM model \n",
    "#X[100,120,140,160,180] : Y[200]\n",
    "def create_ds(dataset,step):\n",
    "    Xtrain, Ytrain = [], []\n",
    "    for i in range(len(dataset)-step-1):\n",
    "        a = dataset[i:(i+step), 0]\n",
    "        Xtrain.append(a)\n",
    "        Ytrain.append(dataset[i + step, 0])\n",
    "    return np.array(Xtrain), np.array(Ytrain)"
   ]
  },
  {
   "cell_type": "code",
   "execution_count": 24,
   "id": "d28b7d1d",
   "metadata": {},
   "outputs": [],
   "source": [
    "#Taking 100 days price as one record for training\n",
    "time_stamp = 100\n",
    "X_train, y_train = create_ds(ds_train,time_stamp)\n",
    "X_test, y_test = create_ds(ds_test,time_stamp)"
   ]
  },
  {
   "cell_type": "code",
   "execution_count": 25,
   "id": "03ce9096",
   "metadata": {},
   "outputs": [
    {
     "data": {
      "text/plain": [
       "((764, 100), (764,))"
      ]
     },
     "execution_count": 25,
     "metadata": {},
     "output_type": "execute_result"
    }
   ],
   "source": [
    "X_train.shape,y_train.shape"
   ]
  },
  {
   "cell_type": "code",
   "execution_count": 26,
   "id": "84acdd72",
   "metadata": {},
   "outputs": [
    {
     "data": {
      "text/plain": [
       "((270, 100), (270,))"
      ]
     },
     "execution_count": 26,
     "metadata": {},
     "output_type": "execute_result"
    }
   ],
   "source": [
    "X_test.shape, y_test.shape"
   ]
  },
  {
   "cell_type": "code",
   "execution_count": 27,
   "id": "c657d193",
   "metadata": {},
   "outputs": [],
   "source": [
    "#Reshaping data to fit into LSTM model\n",
    "X_train = X_train.reshape(X_train.shape[0],X_train.shape[1] , 1)\n",
    "X_test = X_test.reshape(X_test.shape[0],X_test.shape[1] , 1)"
   ]
  },
  {
   "cell_type": "code",
   "execution_count": 28,
   "id": "82844671",
   "metadata": {},
   "outputs": [],
   "source": [
    "from keras.models import Sequential\n",
    "from keras.layers import Dense, LSTM"
   ]
  },
  {
   "cell_type": "code",
   "execution_count": 29,
   "id": "b5250913",
   "metadata": {},
   "outputs": [
    {
     "name": "stdout",
     "output_type": "stream",
     "text": [
      "Model: \"sequential\"\n",
      "_________________________________________________________________\n",
      " Layer (type)                Output Shape              Param #   \n",
      "=================================================================\n",
      " lstm (LSTM)                 (None, 100, 50)           10400     \n",
      "                                                                 \n",
      " lstm_1 (LSTM)               (None, 100, 50)           20200     \n",
      "                                                                 \n",
      " lstm_2 (LSTM)               (None, 50)                20200     \n",
      "                                                                 \n",
      " dense (Dense)               (None, 1)                 51        \n",
      "                                                                 \n",
      "=================================================================\n",
      "Total params: 50,851\n",
      "Trainable params: 50,851\n",
      "Non-trainable params: 0\n",
      "_________________________________________________________________\n"
     ]
    }
   ],
   "source": [
    "#Creating LSTM model using keras\n",
    "model = Sequential()\n",
    "model.add(LSTM(units=50,return_sequences=True,input_shape=(X_train.shape[1],1)))\n",
    "model.add(LSTM(units=50,return_sequences=True))\n",
    "model.add(LSTM(units=50))\n",
    "model.add(Dense(units=1,activation='linear'))\n",
    "model.summary()"
   ]
  },
  {
   "cell_type": "code",
   "execution_count": 30,
   "id": "7e8ff062",
   "metadata": {},
   "outputs": [
    {
     "name": "stdout",
     "output_type": "stream",
     "text": [
      "Epoch 1/100\n",
      "12/12 [==============================] - 6s 194ms/step - loss: 0.1439 - val_loss: 0.0052\n",
      "Epoch 2/100\n",
      "12/12 [==============================] - 1s 111ms/step - loss: 0.0191 - val_loss: 0.0101\n",
      "Epoch 3/100\n",
      "12/12 [==============================] - 1s 112ms/step - loss: 0.0116 - val_loss: 0.0048\n",
      "Epoch 4/100\n",
      "12/12 [==============================] - 1s 104ms/step - loss: 0.0069 - val_loss: 0.0037\n",
      "Epoch 5/100\n",
      "12/12 [==============================] - 1s 116ms/step - loss: 0.0052 - val_loss: 0.0043\n",
      "Epoch 6/100\n",
      "12/12 [==============================] - 1s 117ms/step - loss: 0.0045 - val_loss: 0.0035\n",
      "Epoch 7/100\n",
      "12/12 [==============================] - 1s 111ms/step - loss: 0.0044 - val_loss: 0.0035\n",
      "Epoch 8/100\n",
      "12/12 [==============================] - 2s 131ms/step - loss: 0.0043 - val_loss: 0.0039\n",
      "Epoch 9/100\n",
      "12/12 [==============================] - 1s 123ms/step - loss: 0.0044 - val_loss: 0.0036\n",
      "Epoch 10/100\n",
      "12/12 [==============================] - 1s 109ms/step - loss: 0.0041 - val_loss: 0.0033\n",
      "Epoch 11/100\n",
      "12/12 [==============================] - 1s 107ms/step - loss: 0.0041 - val_loss: 0.0035\n",
      "Epoch 12/100\n",
      "12/12 [==============================] - 2s 128ms/step - loss: 0.0040 - val_loss: 0.0032\n",
      "Epoch 13/100\n",
      "12/12 [==============================] - 1s 111ms/step - loss: 0.0038 - val_loss: 0.0031\n",
      "Epoch 14/100\n",
      "12/12 [==============================] - 1s 112ms/step - loss: 0.0038 - val_loss: 0.0032\n",
      "Epoch 15/100\n",
      "12/12 [==============================] - 1s 108ms/step - loss: 0.0037 - val_loss: 0.0034\n",
      "Epoch 16/100\n",
      "12/12 [==============================] - 1s 114ms/step - loss: 0.0036 - val_loss: 0.0030\n",
      "Epoch 17/100\n",
      "12/12 [==============================] - 1s 105ms/step - loss: 0.0035 - val_loss: 0.0030\n",
      "Epoch 18/100\n",
      "12/12 [==============================] - 1s 105ms/step - loss: 0.0034 - val_loss: 0.0030\n",
      "Epoch 19/100\n",
      "12/12 [==============================] - 1s 109ms/step - loss: 0.0035 - val_loss: 0.0032\n",
      "Epoch 20/100\n",
      "12/12 [==============================] - 1s 122ms/step - loss: 0.0036 - val_loss: 0.0029\n",
      "Epoch 21/100\n",
      "12/12 [==============================] - 1s 108ms/step - loss: 0.0033 - val_loss: 0.0034\n",
      "Epoch 22/100\n",
      "12/12 [==============================] - 1s 120ms/step - loss: 0.0034 - val_loss: 0.0033\n",
      "Epoch 23/100\n",
      "12/12 [==============================] - 1s 114ms/step - loss: 0.0035 - val_loss: 0.0038\n",
      "Epoch 24/100\n",
      "12/12 [==============================] - 1s 111ms/step - loss: 0.0037 - val_loss: 0.0039\n",
      "Epoch 25/100\n",
      "12/12 [==============================] - 1s 107ms/step - loss: 0.0038 - val_loss: 0.0036\n",
      "Epoch 26/100\n",
      "12/12 [==============================] - 1s 106ms/step - loss: 0.0033 - val_loss: 0.0028\n",
      "Epoch 27/100\n",
      "12/12 [==============================] - 1s 114ms/step - loss: 0.0031 - val_loss: 0.0027\n",
      "Epoch 28/100\n",
      "12/12 [==============================] - 1s 110ms/step - loss: 0.0032 - val_loss: 0.0026\n",
      "Epoch 29/100\n",
      "12/12 [==============================] - 1s 104ms/step - loss: 0.0031 - val_loss: 0.0027\n",
      "Epoch 30/100\n",
      "12/12 [==============================] - 1s 104ms/step - loss: 0.0030 - val_loss: 0.0028\n",
      "Epoch 31/100\n",
      "12/12 [==============================] - 1s 114ms/step - loss: 0.0031 - val_loss: 0.0029\n",
      "Epoch 32/100\n",
      "12/12 [==============================] - 1s 113ms/step - loss: 0.0033 - val_loss: 0.0026\n",
      "Epoch 33/100\n",
      "12/12 [==============================] - 1s 110ms/step - loss: 0.0029 - val_loss: 0.0025\n",
      "Epoch 34/100\n",
      "12/12 [==============================] - 1s 103ms/step - loss: 0.0029 - val_loss: 0.0026\n",
      "Epoch 35/100\n",
      "12/12 [==============================] - 1s 116ms/step - loss: 0.0028 - val_loss: 0.0025\n",
      "Epoch 36/100\n",
      "12/12 [==============================] - 1s 103ms/step - loss: 0.0028 - val_loss: 0.0029\n",
      "Epoch 37/100\n",
      "12/12 [==============================] - 1s 104ms/step - loss: 0.0031 - val_loss: 0.0027\n",
      "Epoch 38/100\n",
      "12/12 [==============================] - 1s 117ms/step - loss: 0.0028 - val_loss: 0.0027\n",
      "Epoch 39/100\n",
      "12/12 [==============================] - 1s 111ms/step - loss: 0.0030 - val_loss: 0.0024\n",
      "Epoch 40/100\n",
      "12/12 [==============================] - 1s 105ms/step - loss: 0.0028 - val_loss: 0.0025\n",
      "Epoch 41/100\n",
      "12/12 [==============================] - 1s 103ms/step - loss: 0.0027 - val_loss: 0.0023\n",
      "Epoch 42/100\n",
      "12/12 [==============================] - 1s 117ms/step - loss: 0.0026 - val_loss: 0.0023\n",
      "Epoch 43/100\n",
      "12/12 [==============================] - 1s 112ms/step - loss: 0.0025 - val_loss: 0.0025\n",
      "Epoch 44/100\n",
      "12/12 [==============================] - 1s 116ms/step - loss: 0.0026 - val_loss: 0.0025\n",
      "Epoch 45/100\n",
      "12/12 [==============================] - 1s 109ms/step - loss: 0.0025 - val_loss: 0.0023\n",
      "Epoch 46/100\n",
      "12/12 [==============================] - 1s 114ms/step - loss: 0.0024 - val_loss: 0.0021\n",
      "Epoch 47/100\n",
      "12/12 [==============================] - 1s 105ms/step - loss: 0.0024 - val_loss: 0.0021\n",
      "Epoch 48/100\n",
      "12/12 [==============================] - 1s 110ms/step - loss: 0.0023 - val_loss: 0.0023\n",
      "Epoch 49/100\n",
      "12/12 [==============================] - 1s 103ms/step - loss: 0.0023 - val_loss: 0.0020\n",
      "Epoch 50/100\n",
      "12/12 [==============================] - 1s 113ms/step - loss: 0.0023 - val_loss: 0.0021\n",
      "Epoch 51/100\n",
      "12/12 [==============================] - 1s 102ms/step - loss: 0.0023 - val_loss: 0.0021\n",
      "Epoch 52/100\n",
      "12/12 [==============================] - 1s 101ms/step - loss: 0.0022 - val_loss: 0.0020\n",
      "Epoch 53/100\n",
      "12/12 [==============================] - 1s 103ms/step - loss: 0.0022 - val_loss: 0.0026\n",
      "Epoch 54/100\n",
      "12/12 [==============================] - 1s 113ms/step - loss: 0.0024 - val_loss: 0.0019\n",
      "Epoch 55/100\n",
      "12/12 [==============================] - 1s 103ms/step - loss: 0.0021 - val_loss: 0.0018\n",
      "Epoch 56/100\n",
      "12/12 [==============================] - 1s 102ms/step - loss: 0.0021 - val_loss: 0.0020\n",
      "Epoch 57/100\n",
      "12/12 [==============================] - 1s 124ms/step - loss: 0.0020 - val_loss: 0.0018\n",
      "Epoch 58/100\n",
      "12/12 [==============================] - 1s 120ms/step - loss: 0.0020 - val_loss: 0.0019\n",
      "Epoch 59/100\n",
      "12/12 [==============================] - 1s 103ms/step - loss: 0.0020 - val_loss: 0.0021\n",
      "Epoch 60/100\n",
      "12/12 [==============================] - 1s 109ms/step - loss: 0.0020 - val_loss: 0.0022\n",
      "Epoch 61/100\n",
      "12/12 [==============================] - 1s 110ms/step - loss: 0.0026 - val_loss: 0.0025\n",
      "Epoch 62/100\n",
      "12/12 [==============================] - 1s 114ms/step - loss: 0.0022 - val_loss: 0.0016\n",
      "Epoch 63/100\n",
      "12/12 [==============================] - 1s 105ms/step - loss: 0.0021 - val_loss: 0.0016\n",
      "Epoch 64/100\n",
      "12/12 [==============================] - 1s 107ms/step - loss: 0.0019 - val_loss: 0.0016\n",
      "Epoch 65/100\n",
      "12/12 [==============================] - 1s 105ms/step - loss: 0.0019 - val_loss: 0.0016\n",
      "Epoch 66/100\n",
      "12/12 [==============================] - 1s 111ms/step - loss: 0.0018 - val_loss: 0.0015\n",
      "Epoch 67/100\n",
      "12/12 [==============================] - 1s 104ms/step - loss: 0.0018 - val_loss: 0.0015\n",
      "Epoch 68/100\n",
      "12/12 [==============================] - 1s 104ms/step - loss: 0.0017 - val_loss: 0.0015\n",
      "Epoch 69/100\n",
      "12/12 [==============================] - 1s 124ms/step - loss: 0.0018 - val_loss: 0.0014\n",
      "Epoch 70/100\n",
      "12/12 [==============================] - 1s 109ms/step - loss: 0.0017 - val_loss: 0.0015\n",
      "Epoch 71/100\n",
      "12/12 [==============================] - 1s 103ms/step - loss: 0.0017 - val_loss: 0.0014\n",
      "Epoch 72/100\n",
      "12/12 [==============================] - 1s 102ms/step - loss: 0.0018 - val_loss: 0.0021\n",
      "Epoch 73/100\n",
      "12/12 [==============================] - 1s 109ms/step - loss: 0.0020 - val_loss: 0.0019\n",
      "Epoch 74/100\n",
      "12/12 [==============================] - 1s 108ms/step - loss: 0.0017 - val_loss: 0.0013\n",
      "Epoch 75/100\n",
      "12/12 [==============================] - 1s 102ms/step - loss: 0.0016 - val_loss: 0.0014\n",
      "Epoch 76/100\n",
      "12/12 [==============================] - 1s 103ms/step - loss: 0.0016 - val_loss: 0.0013\n",
      "Epoch 77/100\n",
      "12/12 [==============================] - 1s 118ms/step - loss: 0.0017 - val_loss: 0.0015\n",
      "Epoch 78/100\n",
      "12/12 [==============================] - 1s 107ms/step - loss: 0.0016 - val_loss: 0.0013\n",
      "Epoch 79/100\n",
      "12/12 [==============================] - 1s 105ms/step - loss: 0.0017 - val_loss: 0.0016\n",
      "Epoch 80/100\n",
      "12/12 [==============================] - 1s 105ms/step - loss: 0.0017 - val_loss: 0.0012\n",
      "Epoch 81/100\n",
      "12/12 [==============================] - 1s 114ms/step - loss: 0.0015 - val_loss: 0.0012\n",
      "Epoch 82/100\n",
      "12/12 [==============================] - 1s 118ms/step - loss: 0.0015 - val_loss: 0.0012\n",
      "Epoch 83/100\n",
      "12/12 [==============================] - 1s 111ms/step - loss: 0.0015 - val_loss: 0.0013\n",
      "Epoch 84/100\n",
      "12/12 [==============================] - 1s 104ms/step - loss: 0.0015 - val_loss: 0.0014\n",
      "Epoch 85/100\n",
      "12/12 [==============================] - 1s 122ms/step - loss: 0.0015 - val_loss: 0.0012\n",
      "Epoch 86/100\n",
      "12/12 [==============================] - 1s 107ms/step - loss: 0.0014 - val_loss: 0.0014\n",
      "Epoch 87/100\n",
      "12/12 [==============================] - 1s 106ms/step - loss: 0.0015 - val_loss: 0.0012\n",
      "Epoch 88/100\n",
      "12/12 [==============================] - 1s 105ms/step - loss: 0.0015 - val_loss: 0.0012\n",
      "Epoch 89/100\n",
      "12/12 [==============================] - 1s 113ms/step - loss: 0.0014 - val_loss: 0.0011\n",
      "Epoch 90/100\n",
      "12/12 [==============================] - 1s 104ms/step - loss: 0.0014 - val_loss: 0.0011\n",
      "Epoch 91/100\n",
      "12/12 [==============================] - 1s 110ms/step - loss: 0.0015 - val_loss: 0.0013\n",
      "Epoch 92/100\n",
      "12/12 [==============================] - 1s 107ms/step - loss: 0.0015 - val_loss: 0.0012\n",
      "Epoch 93/100\n",
      "12/12 [==============================] - 1s 117ms/step - loss: 0.0015 - val_loss: 0.0011\n",
      "Epoch 94/100\n",
      "12/12 [==============================] - 1s 124ms/step - loss: 0.0013 - val_loss: 0.0010\n",
      "Epoch 95/100\n",
      "12/12 [==============================] - 1s 104ms/step - loss: 0.0015 - val_loss: 0.0012\n",
      "Epoch 96/100\n",
      "12/12 [==============================] - 1s 108ms/step - loss: 0.0013 - val_loss: 0.0010\n",
      "Epoch 97/100\n",
      "12/12 [==============================] - 1s 105ms/step - loss: 0.0013 - val_loss: 9.8266e-04\n",
      "Epoch 98/100\n",
      "12/12 [==============================] - 1s 116ms/step - loss: 0.0013 - val_loss: 0.0011\n",
      "Epoch 99/100\n",
      "12/12 [==============================] - 1s 107ms/step - loss: 0.0013 - val_loss: 9.9160e-04\n",
      "Epoch 100/100\n",
      "12/12 [==============================] - 1s 124ms/step - loss: 0.0012 - val_loss: 9.7008e-04\n"
     ]
    },
    {
     "data": {
      "text/plain": [
       "<keras.callbacks.History at 0x1da7495ac70>"
      ]
     },
     "execution_count": 30,
     "metadata": {},
     "output_type": "execute_result"
    }
   ],
   "source": [
    "#Training model with adam optimizer and mean squared error loss function\n",
    "model.compile(loss='mean_squared_error',optimizer='adam')\n",
    "model.fit(X_train,y_train,validation_data=(X_test,y_test),epochs=100,batch_size=64)"
   ]
  },
  {
   "cell_type": "code",
   "execution_count": 31,
   "id": "18b1ba6a",
   "metadata": {},
   "outputs": [
    {
     "data": {
      "text/plain": [
       "[<matplotlib.lines.Line2D at 0x1da7f594d90>]"
      ]
     },
     "execution_count": 31,
     "metadata": {},
     "output_type": "execute_result"
    },
    {
     "data": {
      "image/png": "[encoded data removed]",
      "text/plain": [
       "<Figure size 432x288 with 1 Axes>"
      ]
     },
     "metadata": {
      "needs_background": "light"
     },
     "output_type": "display_data"
    }
   ],
   "source": [
    "#PLotting loss, it shows that loss has decreased significantly and model trained well\n",
    "loss = model.history.history['loss']\n",
    "plt.plot(loss)"
   ]
  },
  {
   "cell_type": "code",
   "execution_count": 32,
   "id": "3e7f2fc8",
   "metadata": {},
   "outputs": [
    {
     "name": "stdout",
     "output_type": "stream",
     "text": [
      "24/24 [==============================] - 1s 22ms/step\n",
      "9/9 [==============================] - 0s 20ms/step\n"
     ]
    }
   ],
   "source": [
    "#Predicitng on train and test data\n",
    "train_predict = model.predict(X_train)\n",
    "test_predict = model.predict(X_test)"
   ]
  },
  {
   "cell_type": "code",
   "execution_count": 33,
   "id": "c2d6c2d5",
   "metadata": {},
   "outputs": [],
   "source": [
    "#Inverse transform to get actual value\n",
    "train_predict = normalizer.inverse_transform(train_predict)\n",
    "test_predict = normalizer.inverse_transform(test_predict)"
   ]
  },
  {
   "cell_type": "code",
   "execution_count": 34,
   "id": "9d0543ad",
   "metadata": {},
   "outputs": [
    {
     "data": {
      "text/plain": [
       "[<matplotlib.lines.Line2D at 0x1da7f81f910>]"
      ]
     },
     "execution_count": 34,
     "metadata": {},
     "output_type": "execute_result"
    },
    {
     "data": {
      "image/png": "[encoded data removed]",
      "text/plain": [
       "<Figure size 432x288 with 1 Axes>"
      ]
     },
     "metadata": {
      "needs_background": "light"
     },
     "output_type": "display_data"
    }
   ],
   "source": [
    "#Comparing using visuals\n",
    "plt.plot(normalizer.inverse_transform(ds_scaled))\n",
    "plt.plot(train_predict)\n",
    "plt.plot(test_predict)"
   ]
  },
  {
   "cell_type": "code",
   "execution_count": 35,
   "id": "55300bae",
   "metadata": {},
   "outputs": [
    {
     "data": {
      "text/plain": [
       "numpy.ndarray"
      ]
     },
     "execution_count": 35,
     "metadata": {},
     "output_type": "execute_result"
    }
   ],
   "source": [
    "type(train_predict)"
   ]
  },
  {
   "cell_type": "code",
   "execution_count": 36,
   "id": "bf6d5613",
   "metadata": {},
   "outputs": [],
   "source": [
    "test = np.vstack((train_predict,test_predict))"
   ]
  },
  {
   "cell_type": "code",
   "execution_count": 37,
   "id": "41b272ff",
   "metadata": {},
   "outputs": [
    {
     "data": {
      "text/plain": [
       "[<matplotlib.lines.Line2D at 0x1da7f7e3fa0>]"
      ]
     },
     "execution_count": 37,
     "metadata": {},
     "output_type": "execute_result"
    },
    {
     "data": {
      "image/png": "[encoded data removed]",
      "text/plain": [
       "<Figure size 432x288 with 1 Axes>"
      ]
     },
     "metadata": {
      "needs_background": "light"
     },
     "output_type": "display_data"
    }
   ],
   "source": [
    "#Combining the predited data to create uniform data visualization\n",
    "plt.plot(normalizer.inverse_transform(ds_scaled))\n",
    "plt.plot(test)"
   ]
  },
  {
   "cell_type": "code",
   "execution_count": 38,
   "id": "16af9283",
   "metadata": {},
   "outputs": [
    {
     "data": {
      "text/plain": [
       "371"
      ]
     },
     "execution_count": 38,
     "metadata": {},
     "output_type": "execute_result"
    }
   ],
   "source": [
    "len(ds_test)"
   ]
  },
  {
   "cell_type": "code",
   "execution_count": 39,
   "id": "c13df7b8",
   "metadata": {},
   "outputs": [],
   "source": [
    "#Getting the last 100 days records\n",
    "fut_inp = ds_test[270:]"
   ]
  },
  {
   "cell_type": "code",
   "execution_count": 40,
   "id": "52b30579",
   "metadata": {},
   "outputs": [],
   "source": [
    "fut_inp = fut_inp.reshape(1,-1)"
   ]
  },
  {
   "cell_type": "code",
   "execution_count": 41,
   "id": "ac2686a6",
   "metadata": {},
   "outputs": [],
   "source": [
    "tmp_inp = list(fut_inp)"
   ]
  },
  {
   "cell_type": "code",
   "execution_count": 42,
   "id": "dad5024f",
   "metadata": {},
   "outputs": [
    {
     "data": {
      "text/plain": [
       "(1, 101)"
      ]
     },
     "execution_count": 42,
     "metadata": {},
     "output_type": "execute_result"
    }
   ],
   "source": [
    "fut_inp.shape"
   ]
  },
  {
   "cell_type": "code",
   "execution_count": 43,
   "id": "98042a30",
   "metadata": {},
   "outputs": [],
   "source": [
    "#Creating list of the last 100 data\n",
    "tmp_inp = tmp_inp[0].tolist()"
   ]
  },
  {
   "cell_type": "code",
   "execution_count": 44,
   "id": "44799d02",
   "metadata": {},
   "outputs": [
    {
     "name": "stdout",
     "output_type": "stream",
     "text": [
      "[[0.5321270823478699], [0.5311204791069031], [0.5291839838027954], [0.5270729660987854], [0.525151252746582], [0.5236166715621948], [0.5225806832313538], [0.5220914483070374], [0.522142231464386], [0.5226836800575256], [0.5236353278160095], [0.5249001383781433], [0.5263754725456238], [0.5279631018638611], [0.5295759439468384], [0.5311432480812073], [0.5326122045516968], [0.5339488983154297], [0.5351372957229614], [0.5361767411231995], [0.5370790362358093], [0.5378643870353699], [0.5385586619377136], [0.5391897559165955], [0.5397844910621643], [0.540367841720581], [0.5409594774246216], [0.5415747761726379], [0.5422237515449524], [0.5429121851921082]]\n"
     ]
    }
   ],
   "source": [
    "#Predicting next 30 days price suing the current data\n",
    "#It will predict in sliding window manner (algorithm) with stride 1\n",
    "lst_output=[]\n",
    "n_steps=100\n",
    "i=0\n",
    "while(i<30):\n",
    "    \n",
    "    if(len(tmp_inp)>100):\n",
    "        fut_inp = np.array(tmp_inp[1:])\n",
    "        fut_inp=fut_inp.reshape(1,-1)\n",
    "        fut_inp = fut_inp.reshape((1, n_steps, 1))\n",
    "        yhat = model.predict(fut_inp, verbose=0)\n",
    "        tmp_inp.extend(yhat[0].tolist())\n",
    "        tmp_inp = tmp_inp[1:]\n",
    "        lst_output.extend(yhat.tolist())\n",
    "        i=i+1\n",
    "    else:\n",
    "        fut_inp = fut_inp.reshape((1, n_steps,1))\n",
    "        yhat = model.predict(fut_inp, verbose=0)\n",
    "        tmp_inp.extend(yhat[0].tolist())\n",
    "        lst_output.extend(yhat.tolist())\n",
    "        i=i+1\n",
    "    \n",
    "\n",
    "print(lst_output)"
   ]
  },
  {
   "cell_type": "code",
   "execution_count": 45,
   "id": "d49a83e5",
   "metadata": {},
   "outputs": [
    {
     "data": {
      "text/plain": [
       "1236"
      ]
     },
     "execution_count": 45,
     "metadata": {},
     "output_type": "execute_result"
    }
   ],
   "source": [
    "len(ds_scaled)"
   ]
  },
  {
   "cell_type": "code",
   "execution_count": 46,
   "id": "49450ea7",
   "metadata": {},
   "outputs": [],
   "source": [
    "#Creating a dummy plane to plot graph one after another\n",
    "plot_new=np.arange(1,101)\n",
    "plot_pred=np.arange(101,131)"
   ]
  },
  {
   "cell_type": "code",
   "execution_count": 48,
   "id": "dc208237",
   "metadata": {},
   "outputs": [
    {
     "data": {
      "text/plain": [
       "(1236, 1)"
      ]
     },
     "execution_count": 48,
     "metadata": {},
     "output_type": "execute_result"
    }
   ],
   "source": [
    "ds_scaled.shape"
   ]
  },
  {
   "cell_type": "code",
   "execution_count": 49,
   "id": "29f84e31",
   "metadata": {},
   "outputs": [
    {
     "data": {
      "text/plain": [
       "[<matplotlib.lines.Line2D at 0x1da7f956b80>]"
      ]
     },
     "execution_count": 49,
     "metadata": {},
     "output_type": "execute_result"
    },
    {
     "data": {
      "image/png": "[encoded data removed]",
      "text/plain": [
       "<Figure size 432x288 with 1 Axes>"
      ]
     },
     "metadata": {
      "needs_background": "light"
     },
     "output_type": "display_data"
    }
   ],
   "source": [
    "plt.plot(plot_new, normalizer.inverse_transform(ds_scaled[1136:]))\n",
    "plt.plot(plot_pred, normalizer.inverse_transform(lst_output))"
   ]
  },
  {
   "cell_type": "code",
   "execution_count": 50,
   "id": "e41c9362",
   "metadata": {},
   "outputs": [],
   "source": [
    "ds_new = ds_scaled.tolist()"
   ]
  },
  {
   "cell_type": "code",
   "execution_count": 51,
   "id": "d6c8d3c1",
   "metadata": {},
   "outputs": [
    {
     "data": {
      "text/plain": [
       "1236"
      ]
     },
     "execution_count": 51,
     "metadata": {},
     "output_type": "execute_result"
    }
   ],
   "source": [
    "len(ds_new)"
   ]
  },
  {
   "cell_type": "code",
   "execution_count": 52,
   "id": "24e99607",
   "metadata": {},
   "outputs": [
    {
     "data": {
      "text/plain": [
       "[<matplotlib.lines.Line2D at 0x1da7f88b2e0>]"
      ]
     },
     "execution_count": 52,
     "metadata": {},
     "output_type": "execute_result"
    },
    {
     "data": {
      "image/png": "[encoded data removed]",
      "text/plain": [
       "<Figure size 432x288 with 1 Axes>"
      ]
     },
     "metadata": {
      "needs_background": "light"
     },
     "output_type": "display_data"
    }
   ],
   "source": [
    "#Entends helps us to fill the missing value with approx value\n",
    "ds_new.extend(lst_output)\n",
    "plt.plot(ds_new[1200:])"
   ]
  },
  {
   "cell_type": "code",
   "execution_count": 53,
   "id": "7f04f058",
   "metadata": {},
   "outputs": [],
   "source": [
    "#Creating final data for plotting\n",
    "final_graph = normalizer.inverse_transform(ds_new).tolist()"
   ]
  },
  {
   "cell_type": "code",
   "execution_count": 54,
   "id": "2dfdef30",
   "metadata": {},
   "outputs": [
    {
     "data": {
      "text/plain": [
       "<matplotlib.legend.Legend at 0x1da7fcd11f0>"
      ]
     },
     "execution_count": 54,
     "metadata": {},
     "output_type": "execute_result"
    },
    {
     "data": {
      "image/png": "[encoded data removed]",
      "text/plain": [
       "<Figure size 432x288 with 1 Axes>"
      ]
     },
     "metadata": {
      "needs_background": "light"
     },
     "output_type": "display_data"
    }
   ],
   "source": [
    "#Plotting final results with predicted value after 30 Days\n",
    "plt.plot(final_graph,)\n",
    "plt.ylabel(\"Price\")\n",
    "plt.xlabel(\"Time\")\n",
    "plt.title(\"{0} prediction of next month open\".format(stock_symbol))\n",
    "plt.axhline(y=final_graph[len(final_graph)-1], color = 'red', linestyle = ':', label = 'NEXT 30D: {0}'.format(round(float(*final_graph[len(final_graph)-1]),2)))\n",
    "plt.legend()\n",
    "\n"
   ]
  }
 ],
 "metadata": {
  "kernelspec": {
   "display_name": "Python 3",
   "language": "python",
   "name": "python3"
  },
  "language_info": {
   "codemirror_mode": {
    "name": "ipython",
    "version": 3
   },
   "file_extension": ".py",
   "mimetype": "text/x-python",
   "name": "python",
   "nbconvert_exporter": "python",
   "pygments_lexer": "ipython3",
   "version": "3.8.8"
  }
 },
 "nbformat": 4,
 "nbformat_minor": 5
}
